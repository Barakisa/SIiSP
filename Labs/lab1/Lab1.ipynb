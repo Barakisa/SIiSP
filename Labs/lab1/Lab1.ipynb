{
 "cells": [
  {
   "cell_type": "markdown",
   "metadata": {},
   "source": [
    "# Neuron class"
   ]
  },
  {
   "cell_type": "code",
   "execution_count": 1,
   "metadata": {},
   "outputs": [],
   "source": [
    "import math\n",
    "\n",
    "class Neuron:\n",
    "    weights = []\n",
    "\n",
    "    def __init__(self):\n",
    "        pass\n",
    "    \n",
    "    def param_sum(self, x, bias, w):\n",
    "        return sum(w[i]*x[i] for i in range(len(x))) + bias\n",
    "\n",
    "    def threshold_function(self, x, bias, w = weights):\n",
    "        return (int)(self.param_sum(x, bias, w) > 0)\n",
    "\n",
    "    def sigmoid_function(self, x, bias, w = weights):\n",
    "        return (1/(1+math.exp(-1*self.param_sum(x, bias, w))) > 0.5)\n"
   ]
  },
  {
   "cell_type": "markdown",
   "metadata": {},
   "source": [
    "# Setup\n",
    "## Static data"
   ]
  },
  {
   "cell_type": "code",
   "execution_count": 2,
   "metadata": {},
   "outputs": [],
   "source": [
    "class Dataset:\n",
    "    x = [(0.2, 0.5), (0.2, -0.7), (0.8, -0.8), (0.8, 1)]\n",
    "    f = [0, 0, 1, 1]\n",
    "    bStatic = -4.5\n",
    "\n",
    "    def __init__(self):\n",
    "        pass\n"
   ]
  },
  {
   "cell_type": "markdown",
   "metadata": {},
   "source": [
    "## Random\n",
    "### generator\n",
    "Random number pair generator for weight generatio. Need to use seed, to quickly generate new randoms, as the basic random method returns the same values"
   ]
  },
  {
   "cell_type": "code",
   "execution_count": 3,
   "metadata": {},
   "outputs": [],
   "source": [
    "import random\n",
    "from pandas import Timestamp\n",
    "\n",
    "randi = 0\n",
    "def new_rand():\n",
    "    global randi\n",
    "    randi += 1\n",
    "    seed2 = Timestamp.now().microsecond / random.randint(1, 1000)\n",
    "    random.seed(randi + seed2)\n",
    "    return [random.random() *40 -20 for _ in range(2)]"
   ]
  },
  {
   "cell_type": "markdown",
   "metadata": {},
   "source": [
    "## Check random weights, if they work with current dataset"
   ]
  },
  {
   "cell_type": "code",
   "execution_count": 4,
   "metadata": {},
   "outputs": [],
   "source": [
    "def check_weights(dataset, weights, function):\n",
    "    verdict = True\n",
    "    for i in range(dataset.x.__len__()):\n",
    "        if function(dataset.x[i], dataset.bStatic, weights) != dataset.f[i]:\n",
    "            verdict = False\n",
    "            break\n",
    "    return verdict"
   ]
  },
  {
   "cell_type": "markdown",
   "metadata": {},
   "source": [
    "# Start section"
   ]
  },
  {
   "cell_type": "code",
   "execution_count": null,
   "metadata": {},
   "outputs": [],
   "source": [
    "import ipywidgets as widgets\n",
    "import matplotlib.pyplot as plt\n",
    "\n",
    "\n",
    "# create a neuron object\n",
    "neuron = Neuron()\n",
    "# dataset of x values and expected activation function f values\n",
    "dataset = Dataset()\n",
    "\n",
    "# Create a dictionary that maps function names to functions\n",
    "functions = { \"Sigmoid\": neuron.sigmoid_function, \"Threshold\": neuron.threshold_function}\n",
    "\n",
    "# Create a ToggleButtons widget\n",
    "toggle = widgets.ToggleButtons(\n",
    "    # Use function names as options\n",
    "    options=functions.keys(),  \n",
    "    description='Choose activation function:',\n",
    ")\n",
    "# Display the widget\n",
    "display(toggle)\n",
    "\n",
    "# Create a button that will run the selected function when clicked\n",
    "button = widgets.Button(description=\"Run\")\n",
    "\n",
    "\n",
    "def on_run_clicked(b):\n",
    "    b.description = \"Running...\"\n",
    "    res = []\n",
    "    global randi\n",
    "    randi = 0\n",
    "\n",
    "    # this is the main random weight search loop\n",
    "    # it generates a random weight, checks if it is valid and if so, adds it to the list\n",
    "    # it does this until it has found 5 valid weights or tried 20000 times (whichever comes first)\n",
    "    while (randi < 2000) and (len(res) <= 5):\n",
    "        random_weights = new_rand()\n",
    "        if(check_weights(dataset, random_weights, functions[toggle.value])):      \n",
    "            res.append(random_weights)\n",
    "    \n",
    "    b.description = \"Run\"\n",
    "\n",
    "    # If no valid weights were found, print an error message\n",
    "    if res.__len__() == 0:\n",
    "        print(f'No valid weights found after {randi} attempts')\n",
    "        return\n",
    "    \n",
    "    # Unpack the pairs into two lists\n",
    "    x_values, y_values = zip(*res)\n",
    "    print(x_values, y_values)\n",
    "    # Create a scatter plot\n",
    "    plt.plot(x_values, y_values, 'ro')\n",
    "    plt.title(f'Plot of weights (w1, w2), where \\n{toggle.value}(w1 * x1 + w2 * x2 + {dataset.bStatic}) matches table values \\nRandom weights checked: {randi} ')\n",
    "\n",
    "    plt.xlabel('w1')\n",
    "    plt.ylabel('w2')\n",
    "\n",
    "    # Add labels for each point with 2 decimal numbers\n",
    "    for i in range(len(res)):\n",
    "        plt.text(res[i][0], res[i][1], f'({round(res[i][0], 2)}, {round(res[i][1], 2)})', ha='left', va='bottom')\n",
    "\n",
    "# Register the callback function with the button\n",
    "button.on_click(on_run_clicked)\n",
    "display(button)\n",
    "# Run the function to display the output\n",
    "# debugging only\n",
    "# button.click()"
   ]
  }
 ],
 "metadata": {
  "kernelspec": {
   "display_name": "Python 3",
   "language": "python",
   "name": "python3"
  },
  "language_info": {
   "codemirror_mode": {
    "name": "ipython",
    "version": 3
   },
   "file_extension": ".py",
   "mimetype": "text/x-python",
   "name": "python",
   "nbconvert_exporter": "python",
   "pygments_lexer": "ipython3",
   "version": "3.11.4"
  }
 },
 "nbformat": 4,
 "nbformat_minor": 2
}
